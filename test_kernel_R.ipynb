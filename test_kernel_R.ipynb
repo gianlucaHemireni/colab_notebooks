{
  "nbformat": 4,
  "nbformat_minor": 0,
  "metadata": {
    "colab": {
      "provenance": [],
      "authorship_tag": "ABX9TyMd/1cvzdPqoNuuu/zbKE5Z",
      "include_colab_link": true
    },
    "kernelspec": {
      "name": "python3",
      "display_name": "Python 3"
    },
    "language_info": {
      "name": "python"
    }
  },
  "cells": [
    {
      "cell_type": "markdown",
      "metadata": {
        "id": "view-in-github",
        "colab_type": "text"
      },
      "source": [
        "<a href=\"https://colab.research.google.com/github/gianlucaHemireni/colab_notebooks/blob/main/test_kernel_R.ipynb\" target=\"_parent\"><img src=\"https://colab.research.google.com/assets/colab-badge.svg\" alt=\"Open In Colab\"/></a>"
      ]
    },
    {
      "cell_type": "code",
      "execution_count": 1,
      "metadata": {
        "id": "BpKcR6TnUdjh"
      },
      "outputs": [],
      "source": [
        "%load_ext rpy2.ipython"
      ]
    },
    {
      "cell_type": "code",
      "source": [
        "%%R\n",
        "ls()\n",
        "install.packages(\"tidyverse\")"
      ],
      "metadata": {
        "id": "A2tt_gpAUpUY"
      },
      "execution_count": null,
      "outputs": []
    },
    {
      "cell_type": "code",
      "source": [
        "%%R\n",
        "library(tidyverse)"
      ],
      "metadata": {
        "colab": {
          "base_uri": "https://localhost:8080/"
        },
        "id": "-gTxPa2tU-J1",
        "outputId": "29216ecb-f4d0-4b0a-d876-870513d1c61f"
      },
      "execution_count": 4,
      "outputs": [
        {
          "output_type": "stream",
          "name": "stdout",
          "text": [
            "── Attaching core tidyverse packages ──────────────────────── tidyverse 2.0.0 ──\n",
            "✔ dplyr     1.1.4     ✔ readr     2.1.4\n",
            "✔ forcats   1.0.0     ✔ stringr   1.5.1\n",
            "✔ ggplot2   3.4.4     ✔ tibble    3.2.1\n",
            "✔ lubridate 1.9.3     ✔ tidyr     1.3.0\n",
            "✔ purrr     1.0.2     \n",
            "── Conflicts ────────────────────────────────────────── tidyverse_conflicts() ──\n",
            "✖ dplyr::filter() masks stats::filter()\n",
            "✖ dplyr::lag()    masks stats::lag()\n",
            "ℹ Use the conflicted package (<http://conflicted.r-lib.org/>) to force all conflicts to become errors\n"
          ]
        }
      ]
    },
    {
      "cell_type": "code",
      "source": [
        "%%R\n",
        "cal = read_delim(\"/content/sample_data/california_housing_train.csv\")"
      ],
      "metadata": {
        "colab": {
          "base_uri": "https://localhost:8080/"
        },
        "id": "R2yXD389VBse",
        "outputId": "ee0552fa-8edb-4aa7-f2a5-6a15fde53ec3"
      },
      "execution_count": 11,
      "outputs": [
        {
          "output_type": "stream",
          "name": "stdout",
          "text": [
            "Rows: 17000 Columns: 9\n",
            "── Column specification ────────────────────────────────────────────────────────\n",
            "Delimiter: \",\"\n",
            "dbl (9): longitude, latitude, housing_median_age, total_rooms, total_bedroom...\n",
            "\n",
            "ℹ Use `spec()` to retrieve the full column specification for this data.\n",
            "ℹ Specify the column types or set `show_col_types = FALSE` to quiet this message.\n"
          ]
        }
      ]
    },
    {
      "cell_type": "code",
      "source": [
        "%%R\n",
        "cal |> head()"
      ],
      "metadata": {
        "colab": {
          "base_uri": "https://localhost:8080/"
        },
        "id": "fBrDe84BcrEn",
        "outputId": "c81b04df-e9f9-48fd-ad2a-7378aeee11b7"
      },
      "execution_count": 13,
      "outputs": [
        {
          "output_type": "stream",
          "name": "stdout",
          "text": [
            "# A tibble: 6 × 9\n",
            "  longitude latitude housing_median_age total_rooms total_bedrooms population\n",
            "      <dbl>    <dbl>              <dbl>       <dbl>          <dbl>      <dbl>\n",
            "1     -114.     34.2                 15        5612           1283       1015\n",
            "2     -114.     34.4                 19        7650           1901       1129\n",
            "3     -115.     33.7                 17         720            174        333\n",
            "4     -115.     33.6                 14        1501            337        515\n",
            "5     -115.     33.6                 20        1454            326        624\n",
            "6     -115.     33.6                 29        1387            236        671\n",
            "# ℹ 3 more variables: households <dbl>, median_income <dbl>,\n",
            "#   median_house_value <dbl>\n"
          ]
        }
      ]
    }
  ]
}